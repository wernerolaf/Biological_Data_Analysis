{
 "cells": [
  {
   "cell_type": "code",
   "execution_count": 4,
   "metadata": {},
   "outputs": [],
   "source": [
    "def Needleman_Wunsh(SEQ1=\"\",SEQ2=\"\",GP=-2,DIFF=-5,SAME=5,MAX_SEQ_LENGTH=-1):\n",
    "\n",
    "    def calculate_values(MatrixOfValues,SEQ1,SEQ2,GP,DIFF,SAME):\n",
    "        for x in range(len(SEQ2)):\n",
    "            for y in range(len(SEQ1)):\n",
    "                left=MatrixOfValues[x+1][y]+GP\n",
    "                up=MatrixOfValues[x][y+1]+GP\n",
    "                if(SEQ2[x]==SEQ1[y]):\n",
    "                    slant=MatrixOfValues[x][y]+SAME\n",
    "                else:\n",
    "                    slant=MatrixOfValues[x][y]+DIFF\n",
    "\n",
    "                newValue=max(left,up,slant)\n",
    "                MatrixOfValues[x+1][y+1]=newValue\n",
    "    \n",
    "    if(MAX_SEQ_LENGTH<1):\n",
    "        print(MAX_SEQ_LENGTH)\n",
    "        print(\"Set MAX_SEQ_LENGTH to positive integer\")\n",
    "        return\n",
    "    elif(MAX_SEQ_LENGTH<max(len(SEQ1),len(SEQ2))):\n",
    "        print(\"MAX_SEQ_LENGTH reached\")\n",
    "        return\n",
    "    \n",
    "    #setting up needed matrices\n",
    "    MatrixOfValues = [[0 for x in range(len(SEQ1)+1)] for y in range(len(SEQ2)+1)] \n",
    "    for i in range(len(SEQ1)+1):\n",
    "        MatrixOfValues[0][i]=i*GP\n",
    "    \n",
    "    for i in range(len(SEQ2)+1):\n",
    "        MatrixOfValues[i][0]=i*GP\n",
    "    \n",
    "    #calculating values and updating directions\n",
    "    calculate_values(MatrixOfValues,SEQ1,SEQ2,GP,DIFF,SAME)\n",
    "    #creating solution based on MatrixOfDirections\n",
    "    return MatrixOfValues[len(SEQ2)][len(SEQ1)]\n",
    "    "
   ]
  },
  {
   "cell_type": "code",
   "execution_count": 5,
   "metadata": {},
   "outputs": [
    {
     "data": {
      "text/plain": [
       "3"
      ]
     },
     "execution_count": 5,
     "metadata": {},
     "output_type": "execute_result"
    }
   ],
   "source": [
    "Needleman_Wunsh(SEQ1=\"GAATTCAGTTA\",SEQ2=\"GGATCGA\",GP=-2,DIFF=-1,SAME=2,MAX_SEQ_LENGTH=12)"
   ]
  },
  {
   "cell_type": "code",
   "execution_count": 9,
   "metadata": {},
   "outputs": [],
   "source": [
    "def Needleman_Wunsh_matrix(SEQ_list,GP=-2,DIFF=-1,SAME=2,MAX_SEQ_LENGTH=20):\n",
    "    MatrixOfDistance = [[0 for x in range(len(SEQ_list))] for y in range(len(SEQ_list))]\n",
    "    for i in range(len(SEQ_list)-1):\n",
    "        for j in range(i+1,len(SEQ_list)):\n",
    "            MatrixOfDistance[i][j]=Needleman_Wunsh(SEQ_list[i],SEQ_list[j],GP,DIFF,SAME,MAX_SEQ_LENGTH)\n",
    "            MatrixOfDistance[j][i]=MatrixOfDistance[i][j]\n",
    "    return MatrixOfDistance"
   ]
  },
  {
   "cell_type": "code",
   "execution_count": 7,
   "metadata": {},
   "outputs": [],
   "source": [
    "SEQ_list=[\"GAATTCAGTTA\",\"GGATCGA\",\"GGGATCGGA\"]"
   ]
  },
  {
   "cell_type": "code",
   "execution_count": 8,
   "metadata": {},
   "outputs": [
    {
     "data": {
      "text/plain": [
       "[[0, 0, 0], [0, 0, 0], [0, 0, 0]]"
      ]
     },
     "execution_count": 8,
     "metadata": {},
     "output_type": "execute_result"
    }
   ],
   "source": [
    "Needleman_Wunsh_matrix(SEQ_list,GP=-2,DIFF=-1,SAME=2,MAX_SEQ_LENGTH=20)"
   ]
  },
  {
   "cell_type": "code",
   "execution_count": null,
   "metadata": {},
   "outputs": [],
   "source": []
  }
 ],
 "metadata": {
  "kernelspec": {
   "display_name": "Python 3",
   "language": "python",
   "name": "python3"
  },
  "language_info": {
   "codemirror_mode": {
    "name": "ipython",
    "version": 3
   },
   "file_extension": ".py",
   "mimetype": "text/x-python",
   "name": "python",
   "nbconvert_exporter": "python",
   "pygments_lexer": "ipython3",
   "version": "3.8.5"
  }
 },
 "nbformat": 4,
 "nbformat_minor": 2
}
