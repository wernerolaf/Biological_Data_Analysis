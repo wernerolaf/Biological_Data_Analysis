{
 "cells": [
  {
   "cell_type": "code",
   "execution_count": 65,
   "metadata": {
    "ExecuteTime": {
     "end_time": "2021-03-22T20:14:50.401373Z",
     "start_time": "2021-03-22T20:14:50.381297Z"
    }
   },
   "outputs": [],
   "source": [
    "class SmithWaterman:\n",
    "    def __init__(self, sub=None, w=1):\n",
    "        if sub is not None:\n",
    "            self.sub = sub\n",
    "        else:\n",
    "            self.sub = lambda a, b: 1 if a == b else -1\n",
    "        self.w = w\n",
    "        \n",
    "    def align(self, a, b):\n",
    "        n = len(a)\n",
    "        m = len(b)\n",
    "        \n",
    "        H = np.zeros((n+1, m+1))\n",
    "        dirs = np.empty((n, m))\n",
    "        \n",
    "        for i, aa in enumerate(a):\n",
    "            for j, bb in enumerate(b):\n",
    "                v1 = H[i, j] + self.sub(aa, bb)\n",
    "                v2 = (H[:i+1, j+1] - self.w*np.arange(i+1, 0, -1)).max()\n",
    "                v3 = (H[i+1, :j+1] - self.w*np.arange(j+1, 0, -1)).max()\n",
    "                scores = [v1, v2, v3, 0]\n",
    "                m_ = np.argmax(scores)\n",
    "                dirs[i, j] = m_\n",
    "                H[i+1, j+1] = scores[m_]\n",
    "                \n",
    "        i = np.argmax(H.reshape(-1,))\n",
    "        j = i%(m+1)\n",
    "        i //= m+1\n",
    "        print(i, j)\n",
    "        res = \"\"\n",
    "        while i > 0 and j > 0:\n",
    "            if dirs[i-1, j-1] == 0:\n",
    "                res += a[i-1]\n",
    "                i -= 1\n",
    "                j -= 1\n",
    "            elif dirs[i-1, j-1] == 1:\n",
    "                res += '*'\n",
    "                i -= 1\n",
    "            elif dirs[i-1, j-1] == 2:\n",
    "                res += '*'\n",
    "                j -= 1\n",
    "            \n",
    "                \n",
    "        return H, dirs, res[::-1]"
   ]
  },
  {
   "cell_type": "code",
   "execution_count": 70,
   "metadata": {
    "ExecuteTime": {
     "end_time": "2021-03-22T20:15:02.765058Z",
     "start_time": "2021-03-22T20:15:02.758076Z"
    }
   },
   "outputs": [
    {
     "name": "stdout",
     "output_type": "stream",
     "text": [
      "7 6\n"
     ]
    }
   ],
   "source": [
    "A = 'AAABBAC'\n",
    "B = 'ABDBAC'\n",
    "sw = SmithWaterman()\n",
    "H, dirs, res = sw.align(A, B)"
   ]
  },
  {
   "cell_type": "code",
   "execution_count": 71,
   "metadata": {
    "ExecuteTime": {
     "end_time": "2021-03-22T20:15:03.433265Z",
     "start_time": "2021-03-22T20:15:03.421186Z"
    }
   },
   "outputs": [
    {
     "data": {
      "text/plain": [
       "'AB*BAC'"
      ]
     },
     "execution_count": 71,
     "metadata": {},
     "output_type": "execute_result"
    }
   ],
   "source": [
    "res"
   ]
  },
  {
   "cell_type": "code",
   "execution_count": 72,
   "metadata": {
    "ExecuteTime": {
     "end_time": "2021-03-22T20:16:09.011622Z",
     "start_time": "2021-03-22T20:16:09.005639Z"
    }
   },
   "outputs": [
    {
     "data": {
      "text/plain": [
       "array([[0., 0., 0., 0., 0., 0., 0.],\n",
       "       [0., 1., 0., 0., 0., 1., 0.],\n",
       "       [0., 1., 0., 0., 0., 1., 0.],\n",
       "       [0., 1., 0., 0., 0., 1., 0.],\n",
       "       [0., 0., 2., 1., 1., 0., 0.],\n",
       "       [0., 0., 1., 1., 2., 1., 0.],\n",
       "       [0., 1., 0., 0., 1., 3., 2.],\n",
       "       [0., 0., 0., 0., 0., 2., 4.]])"
      ]
     },
     "execution_count": 72,
     "metadata": {},
     "output_type": "execute_result"
    }
   ],
   "source": [
    "H"
   ]
  },
  {
   "cell_type": "code",
   "execution_count": 73,
   "metadata": {
    "ExecuteTime": {
     "end_time": "2021-03-22T20:16:09.474674Z",
     "start_time": "2021-03-22T20:16:09.461581Z"
    }
   },
   "outputs": [
    {
     "data": {
      "text/plain": [
       "array([[0., 2., 3., 3., 0., 2.],\n",
       "       [0., 0., 3., 3., 0., 0.],\n",
       "       [0., 0., 3., 3., 0., 0.],\n",
       "       [1., 0., 2., 0., 1., 0.],\n",
       "       [3., 0., 0., 0., 2., 2.],\n",
       "       [0., 1., 0., 1., 0., 2.],\n",
       "       [1., 0., 3., 1., 1., 0.]])"
      ]
     },
     "execution_count": 73,
     "metadata": {},
     "output_type": "execute_result"
    }
   ],
   "source": [
    "dirs"
   ]
  },
  {
   "cell_type": "markdown",
   "metadata": {},
   "source": [
    "# Fitch Margoliash"
   ]
  },
  {
   "cell_type": "code",
   "execution_count": 93,
   "metadata": {
    "ExecuteTime": {
     "end_time": "2021-04-11T11:06:52.282317Z",
     "start_time": "2021-04-11T11:06:52.272366Z"
    }
   },
   "outputs": [],
   "source": [
    "def fitch_margoliash(dist):\n",
    "    cluster = []\n",
    "    tree = {}\n",
    "    \n",
    "    n = dist.shape[0]\n",
    "    n_ = n\n",
    "    names = [i for i in range(n)]\n",
    "    while len(cluster) < n - 1:\n",
    "        i = dist.reshape(-1,).argmin()\n",
    "\n",
    "        row = i // n_\n",
    "        col = i % n_\n",
    "        \n",
    "        row_name = names[row]\n",
    "        col_name = names[col]\n",
    "        \n",
    "        if isinstance(row_name, int):\n",
    "            cluster.append(row_name)\n",
    "            \n",
    "        if isinstance(col_name, int):\n",
    "            cluster.append(col_name)\n",
    "        \n",
    "        ind = np.delete(np.arange(n_, dtype=int), [row, col])\n",
    "        dist_row = dist[row, ind].mean()\n",
    "        dist_col = dist[ind, col].mean()\n",
    "        \n",
    "        new_name = (row_name, col_name)\n",
    "        \n",
    "        tree[(row_name, new_name)] = (dist_row + dist[row, col] - dist_col) / 2\n",
    "        tree[(col_name, new_name)] = (dist_col + dist[row, col] - dist_row) / 2\n",
    "        \n",
    "        if len(cluster) == n - 1:\n",
    "            tree[(names[0], new_name)] = (dist_col - dist[row, col] + dist_row) / 2\n",
    "            break\n",
    "        \n",
    "        names.remove(row_name)\n",
    "        names.remove(col_name)\n",
    "        names.append(new_name)\n",
    "        \n",
    "        dist = np.hstack((dist, np.zeros((n_, 1))))\n",
    "        dist = np.vstack((dist, np.zeros((1, n_+1))))\n",
    "        dist[-1, -1] = np.inf\n",
    "        \n",
    "        for i in range(n_+1):\n",
    "            dist[i, -1] = (dist[i, row] + dist[i, col]) / 2\n",
    "            dist[-1, i] = dist[i, -1]\n",
    "            \n",
    "        dist = np.delete(dist, [row, col], axis=1)\n",
    "        dist = np.delete(dist, [row, col], axis=0)\n",
    "        \n",
    "        n_ -= 1\n",
    "    \n",
    "    return tree"
   ]
  },
  {
   "cell_type": "code",
   "execution_count": 94,
   "metadata": {
    "ExecuteTime": {
     "end_time": "2021-04-11T11:06:52.752577Z",
     "start_time": "2021-04-11T11:06:52.737641Z"
    }
   },
   "outputs": [],
   "source": [
    "x = np.array(\n",
    "    [\n",
    "        [np.inf, 1, 3, 2], \n",
    "        [1, np.inf, 6, 8],\n",
    "        [3, 6, np.inf, 5],\n",
    "        [2, 8, 5, np.inf]\n",
    "    ])"
   ]
  },
  {
   "cell_type": "code",
   "execution_count": 95,
   "metadata": {
    "ExecuteTime": {
     "end_time": "2021-04-11T11:06:53.207710Z",
     "start_time": "2021-04-11T11:06:53.192721Z"
    },
    "scrolled": false
   },
   "outputs": [
    {
     "data": {
      "text/plain": [
       "{(0, (0, 1)): -1.75,\n",
       " (1, (0, 1)): 2.75,\n",
       " (2, (2, (0, 1))): 2.75,\n",
       " ((0, 1), (2, (0, 1))): 2.25}"
      ]
     },
     "execution_count": 95,
     "metadata": {},
     "output_type": "execute_result"
    }
   ],
   "source": [
    "fitch_margoliash(x)"
   ]
  }
 ],
 "metadata": {
  "kernelspec": {
   "display_name": "Python 3",
   "language": "python",
   "name": "python3"
  },
  "language_info": {
   "codemirror_mode": {
    "name": "ipython",
    "version": 3
   },
   "file_extension": ".py",
   "mimetype": "text/x-python",
   "name": "python",
   "nbconvert_exporter": "python",
   "pygments_lexer": "ipython3",
   "version": "3.7.6"
  },
  "varInspector": {
   "cols": {
    "lenName": 16,
    "lenType": 16,
    "lenVar": 40
   },
   "kernels_config": {
    "python": {
     "delete_cmd_postfix": "",
     "delete_cmd_prefix": "del ",
     "library": "var_list.py",
     "varRefreshCmd": "print(var_dic_list())"
    },
    "r": {
     "delete_cmd_postfix": ") ",
     "delete_cmd_prefix": "rm(",
     "library": "var_list.r",
     "varRefreshCmd": "cat(var_dic_list()) "
    }
   },
   "types_to_exclude": [
    "module",
    "function",
    "builtin_function_or_method",
    "instance",
    "_Feature"
   ],
   "window_display": false
  }
 },
 "nbformat": 4,
 "nbformat_minor": 4
}
