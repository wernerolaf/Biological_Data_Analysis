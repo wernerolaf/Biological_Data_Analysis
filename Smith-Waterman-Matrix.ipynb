{
 "cells": [
  {
   "cell_type": "code",
   "execution_count": 1,
   "metadata": {},
   "outputs": [],
   "source": [
    "import numpy as np"
   ]
  },
  {
   "cell_type": "code",
   "execution_count": 13,
   "metadata": {
    "ExecuteTime": {
     "end_time": "2021-03-22T20:14:50.401373Z",
     "start_time": "2021-03-22T20:14:50.381297Z"
    }
   },
   "outputs": [],
   "source": [
    "class SmithWaterman:\n",
    "    def __init__(self, sub=None, w=1):\n",
    "        if sub is not None:\n",
    "            self.sub = sub\n",
    "        else:\n",
    "            self.sub = lambda a, b: 1 if a == b else -1\n",
    "        self.w = w\n",
    "        \n",
    "    def align(self, a, b):\n",
    "        n = len(a)\n",
    "        m = len(b)\n",
    "        \n",
    "        H = np.zeros((n+1, m+1))\n",
    "        \n",
    "        for i, aa in enumerate(a):\n",
    "            for j, bb in enumerate(b):\n",
    "                v1 = H[i, j] + self.sub(aa, bb)\n",
    "                v2 = (H[:i+1, j+1] - self.w*np.arange(i+1, 0, -1)).max()\n",
    "                v3 = (H[i+1, :j+1] - self.w*np.arange(j+1, 0, -1)).max()\n",
    "                scores = [v1, v2, v3, 0]\n",
    "                m_ = np.argmax(scores)\n",
    "                H[i+1, j+1] = scores[m_]\n",
    "                \n",
    "        i = np.argmax(H.reshape(-1,))\n",
    "        j = i%(m+1)\n",
    "        i //= m+1\n",
    "        return H[i,j]"
   ]
  },
  {
   "cell_type": "code",
   "execution_count": 7,
   "metadata": {
    "ExecuteTime": {
     "end_time": "2021-03-22T20:15:02.765058Z",
     "start_time": "2021-03-22T20:15:02.758076Z"
    }
   },
   "outputs": [],
   "source": [
    "A = 'AAABBAC'\n",
    "B = 'ABDBAC'\n",
    "sw = SmithWaterman()\n",
    "res = sw.align(A, B)"
   ]
  },
  {
   "cell_type": "code",
   "execution_count": 8,
   "metadata": {
    "ExecuteTime": {
     "end_time": "2021-03-22T20:15:03.433265Z",
     "start_time": "2021-03-22T20:15:03.421186Z"
    }
   },
   "outputs": [
    {
     "data": {
      "text/plain": [
       "4.0"
      ]
     },
     "execution_count": 8,
     "metadata": {},
     "output_type": "execute_result"
    }
   ],
   "source": [
    "res"
   ]
  },
  {
   "cell_type": "code",
   "execution_count": 15,
   "metadata": {},
   "outputs": [],
   "source": [
    "def SmithWaterman_matrix(SEQ_list):\n",
    "    MatrixOfDistance = [[0 for x in range(len(SEQ_list))] for y in range(len(SEQ_list))]\n",
    "    sw = SmithWaterman()\n",
    "    for i in range(len(SEQ_list)-1):\n",
    "        for j in range(i+1,len(SEQ_list)):\n",
    "            MatrixOfDistance[i][j]=sw.align(SEQ_list[i], SEQ_list[j])\n",
    "            MatrixOfDistance[j][i]=MatrixOfDistance[i][j]\n",
    "    return MatrixOfDistance"
   ]
  },
  {
   "cell_type": "code",
   "execution_count": 16,
   "metadata": {},
   "outputs": [],
   "source": [
    "SEQ_list=[\"GAATTCAGTTA\",\"GGATCGA\",\"GGGATCGGA\"]"
   ]
  },
  {
   "cell_type": "code",
   "execution_count": 17,
   "metadata": {},
   "outputs": [
    {
     "data": {
      "text/plain": [
       "[[0, 2.0, 2.0], [2.0, 0, 6.0], [2.0, 6.0, 0]]"
      ]
     },
     "execution_count": 17,
     "metadata": {},
     "output_type": "execute_result"
    }
   ],
   "source": [
    "SmithWaterman_matrix(SEQ_list)"
   ]
  },
  {
   "cell_type": "code",
   "execution_count": null,
   "metadata": {},
   "outputs": [],
   "source": []
  }
 ],
 "metadata": {
  "kernelspec": {
   "display_name": "Python 3",
   "language": "python",
   "name": "python3"
  },
  "language_info": {
   "codemirror_mode": {
    "name": "ipython",
    "version": 3
   },
   "file_extension": ".py",
   "mimetype": "text/x-python",
   "name": "python",
   "nbconvert_exporter": "python",
   "pygments_lexer": "ipython3",
   "version": "3.8.5"
  },
  "varInspector": {
   "cols": {
    "lenName": 16,
    "lenType": 16,
    "lenVar": 40
   },
   "kernels_config": {
    "python": {
     "delete_cmd_postfix": "",
     "delete_cmd_prefix": "del ",
     "library": "var_list.py",
     "varRefreshCmd": "print(var_dic_list())"
    },
    "r": {
     "delete_cmd_postfix": ") ",
     "delete_cmd_prefix": "rm(",
     "library": "var_list.r",
     "varRefreshCmd": "cat(var_dic_list()) "
    }
   },
   "types_to_exclude": [
    "module",
    "function",
    "builtin_function_or_method",
    "instance",
    "_Feature"
   ],
   "window_display": false
  }
 },
 "nbformat": 4,
 "nbformat_minor": 4
}
