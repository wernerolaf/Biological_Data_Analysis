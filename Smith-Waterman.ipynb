{
 "cells": [
  {
   "cell_type": "code",
   "execution_count": 65,
   "metadata": {
    "ExecuteTime": {
     "end_time": "2021-03-22T20:14:50.401373Z",
     "start_time": "2021-03-22T20:14:50.381297Z"
    }
   },
   "outputs": [],
   "source": [
    "class SmithWaterman:\n",
    "    def __init__(self, sub=None, w=1):\n",
    "        if sub is not None:\n",
    "            self.sub = sub\n",
    "        else:\n",
    "            self.sub = lambda a, b: 1 if a == b else -1\n",
    "        self.w = w\n",
    "        \n",
    "    def align(self, a, b):\n",
    "        n = len(a)\n",
    "        m = len(b)\n",
    "        \n",
    "        H = np.zeros((n+1, m+1))\n",
    "        dirs = np.empty((n, m))\n",
    "        \n",
    "        for i, aa in enumerate(a):\n",
    "            for j, bb in enumerate(b):\n",
    "                v1 = H[i, j] + self.sub(aa, bb)\n",
    "                v2 = (H[:i+1, j+1] - self.w*np.arange(i+1, 0, -1)).max()\n",
    "                v3 = (H[i+1, :j+1] - self.w*np.arange(j+1, 0, -1)).max()\n",
    "                scores = [v1, v2, v3, 0]\n",
    "                m_ = np.argmax(scores)\n",
    "                dirs[i, j] = m_\n",
    "                H[i+1, j+1] = scores[m_]\n",
    "                \n",
    "        i = np.argmax(H.reshape(-1,))\n",
    "        j = i%(m+1)\n",
    "        i //= m+1\n",
    "        print(i, j)\n",
    "        res = \"\"\n",
    "        while i > 0 and j > 0:\n",
    "            if dirs[i-1, j-1] == 0:\n",
    "                res += a[i-1]\n",
    "                i -= 1\n",
    "                j -= 1\n",
    "            elif dirs[i-1, j-1] == 1:\n",
    "                res += '*'\n",
    "                i -= 1\n",
    "            elif dirs[i-1, j-1] == 2:\n",
    "                res += '*'\n",
    "                j -= 1\n",
    "            \n",
    "                \n",
    "        return H, dirs, res[::-1]"
   ]
  },
  {
   "cell_type": "code",
   "execution_count": 70,
   "metadata": {
    "ExecuteTime": {
     "end_time": "2021-03-22T20:15:02.765058Z",
     "start_time": "2021-03-22T20:15:02.758076Z"
    }
   },
   "outputs": [
    {
     "name": "stdout",
     "output_type": "stream",
     "text": [
      "7 6\n"
     ]
    }
   ],
   "source": [
    "A = 'AAABBAC'\n",
    "B = 'ABDBAC'\n",
    "sw = SmithWaterman()\n",
    "H, dirs, res = sw.align(A, B)"
   ]
  },
  {
   "cell_type": "code",
   "execution_count": 71,
   "metadata": {
    "ExecuteTime": {
     "end_time": "2021-03-22T20:15:03.433265Z",
     "start_time": "2021-03-22T20:15:03.421186Z"
    }
   },
   "outputs": [
    {
     "data": {
      "text/plain": [
       "'AB*BAC'"
      ]
     },
     "execution_count": 71,
     "metadata": {},
     "output_type": "execute_result"
    }
   ],
   "source": [
    "res"
   ]
  },
  {
   "cell_type": "code",
   "execution_count": 72,
   "metadata": {
    "ExecuteTime": {
     "end_time": "2021-03-22T20:16:09.011622Z",
     "start_time": "2021-03-22T20:16:09.005639Z"
    }
   },
   "outputs": [
    {
     "data": {
      "text/plain": [
       "array([[0., 0., 0., 0., 0., 0., 0.],\n",
       "       [0., 1., 0., 0., 0., 1., 0.],\n",
       "       [0., 1., 0., 0., 0., 1., 0.],\n",
       "       [0., 1., 0., 0., 0., 1., 0.],\n",
       "       [0., 0., 2., 1., 1., 0., 0.],\n",
       "       [0., 0., 1., 1., 2., 1., 0.],\n",
       "       [0., 1., 0., 0., 1., 3., 2.],\n",
       "       [0., 0., 0., 0., 0., 2., 4.]])"
      ]
     },
     "execution_count": 72,
     "metadata": {},
     "output_type": "execute_result"
    }
   ],
   "source": [
    "H"
   ]
  },
  {
   "cell_type": "code",
   "execution_count": 73,
   "metadata": {
    "ExecuteTime": {
     "end_time": "2021-03-22T20:16:09.474674Z",
     "start_time": "2021-03-22T20:16:09.461581Z"
    }
   },
   "outputs": [
    {
     "data": {
      "text/plain": [
       "array([[0., 2., 3., 3., 0., 2.],\n",
       "       [0., 0., 3., 3., 0., 0.],\n",
       "       [0., 0., 3., 3., 0., 0.],\n",
       "       [1., 0., 2., 0., 1., 0.],\n",
       "       [3., 0., 0., 0., 2., 2.],\n",
       "       [0., 1., 0., 1., 0., 2.],\n",
       "       [1., 0., 3., 1., 1., 0.]])"
      ]
     },
     "execution_count": 73,
     "metadata": {},
     "output_type": "execute_result"
    }
   ],
   "source": [
    "dirs"
   ]
  }
 ],
 "metadata": {
  "kernelspec": {
   "display_name": "Python 3",
   "language": "python",
   "name": "python3"
  },
  "language_info": {
   "codemirror_mode": {
    "name": "ipython",
    "version": 3
   },
   "file_extension": ".py",
   "mimetype": "text/x-python",
   "name": "python",
   "nbconvert_exporter": "python",
   "pygments_lexer": "ipython3",
   "version": "3.7.6"
  },
  "varInspector": {
   "cols": {
    "lenName": 16,
    "lenType": 16,
    "lenVar": 40
   },
   "kernels_config": {
    "python": {
     "delete_cmd_postfix": "",
     "delete_cmd_prefix": "del ",
     "library": "var_list.py",
     "varRefreshCmd": "print(var_dic_list())"
    },
    "r": {
     "delete_cmd_postfix": ") ",
     "delete_cmd_prefix": "rm(",
     "library": "var_list.r",
     "varRefreshCmd": "cat(var_dic_list()) "
    }
   },
   "types_to_exclude": [
    "module",
    "function",
    "builtin_function_or_method",
    "instance",
    "_Feature"
   ],
   "window_display": false
  }
 },
 "nbformat": 4,
 "nbformat_minor": 4
}
